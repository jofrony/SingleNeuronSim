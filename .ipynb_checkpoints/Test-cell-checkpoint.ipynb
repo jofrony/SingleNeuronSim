{
 "cells": [
  {
   "cell_type": "code",
   "execution_count": 1,
   "metadata": {},
   "outputs": [],
   "source": [
    "from neuron_test import Neuron_model_extended\n",
    "import os\n",
    "import bluepyopt.ephys as ephys\n",
    "import matplotlib.pyplot as plt\n",
    "from neuron_test.model_setup import defineTestmodel"
   ]
  },
  {
   "cell_type": "code",
   "execution_count": 2,
   "metadata": {},
   "outputs": [],
   "source": [
    "import neuron"
   ]
  },
  {
   "cell_type": "code",
   "execution_count": 3,
   "metadata": {},
   "outputs": [
    {
     "data": {
      "text/plain": [
       "0.0"
      ]
     },
     "execution_count": 3,
     "metadata": {},
     "output_type": "execute_result"
    }
   ],
   "source": [
    "neuron.h.nrn_load_dll('x86_64/libnrnmech.la')"
   ]
  },
  {
   "cell_type": "code",
   "execution_count": null,
   "metadata": {},
   "outputs": [],
   "source": []
  },
  {
   "cell_type": "code",
   "execution_count": 4,
   "metadata": {},
   "outputs": [],
   "source": [
    "name = \"Test\"\n",
    "modelFile = os.path.abspath(\"modelParameter-sub.txt\")\n",
    "morphologyFile = os.path.abspath(\"morphology/MTC180800A-IDB-cor-rep.swc\")\n",
    "parameterFile = os.path.abspath(\"config/parameters.json\")\n",
    "mechanismsFile = os.path.abspath(\"config/mechanisms.json\")"
   ]
  },
  {
   "cell_type": "markdown",
   "metadata": {},
   "source": [
    "# Define the model"
   ]
  },
  {
   "cell_type": "code",
   "execution_count": 5,
   "metadata": {},
   "outputs": [],
   "source": [
    "setup = defineTestmodel(name=name)\n",
    "\n",
    "setup.param(param='celsius',type_param='global',value=35)\n",
    "setup.param(param='v_init',type_param='global',value=-80)\n",
    "\n",
    "setup.param(param='cm',type_param='section',section='all',value=1.0)\n",
    "setup.param(param='Ra',type_param='section',section='all',value=150)\n",
    "\n",
    "setup.param(param='ek',type_param='section',section='soma',value=-100)\n",
    "setup.param(param='e_pas',type_param='section',section='all',value=-50)\n",
    "\n",
    "setup.param(param='pas',variable='g',type_param='range',section='all',value=8e-5,variation=[0.1,1.5])\n",
    "setup.param(param='hcn12_ch',variable='ehcn',type_param='range',section='soma',value=-40,variation=[0.1,1.5])\n",
    "setup.param(param='hcn12_ch',variable='ehcn',type_param='range',section='basal',value=-40,variation=[0.1,1.5])\n",
    "setup.param(param='hcn12_ch',variable='gbar',type_param='range',section='soma',value=8e-5,variation=[0.1,1.5])\n",
    "setup.param(param='hcn12_ch',variable='gbar',type_param='range',section='basal',value=8e-5,variation=[0.1,1.5])\n",
    "setup.param(param='kaf_ms',variable='gbar',type_param='range',section='soma',value=8e-5,variation=[0.1,1.5])"
   ]
  },
  {
   "cell_type": "code",
   "execution_count": 6,
   "metadata": {},
   "outputs": [],
   "source": [
    "setup.save_set_up(save_opt=True)"
   ]
  },
  {
   "cell_type": "code",
   "execution_count": 8,
   "metadata": {},
   "outputs": [
    {
     "data": {
      "text/plain": [
       "Text(0.5, 1.0, 'TestCell Simulation')"
      ]
     },
     "execution_count": 8,
     "metadata": {},
     "output_type": "execute_result"
    },
    {
     "data": {
      "image/png": "[encoded data removed]",
      "text/plain": [
       "<Figure size 432x288 with 1 Axes>"
      ]
     },
     "metadata": {
      "needs_background": "light"
     },
     "output_type": "display_data"
    }
   ],
   "source": [
    "modelCell=Neuron_model_extended.NeuronModel(cell_name=name,param_file=parameterFile,morph_file=morphologyFile,mech_file=mechanismsFile)\n",
    "\n",
    "simulator=ephys.simulators.NrnSimulator(cvode_active=False)\n",
    "\n",
    "modelCell.instantiate(sim=simulator)  \n",
    "\n",
    "vSave = simulator.neuron.h.Vector()\n",
    "spikeTime = simulator.neuron.h.Vector()\n",
    "\n",
    "\"\"\"\n",
    "Record somatic voltage\n",
    "\"\"\"\n",
    "vSave.record(modelCell.icell.soma[0](0.5)._ref_v)\n",
    "recordingSpikingActivity = simulator.neuron.h.NetCon(modelCell.icell.soma[0](0.5)._ref_v,None, sec = modelCell.icell.soma[0])\n",
    "recordingSpikingActivity.threshold = 0\n",
    "recordingSpikingActivity.record(spikeTime)\n",
    "\n",
    "tSave = simulator.neuron.h.Vector()\n",
    "tSave.record(simulator.neuron.h._ref_t)\n",
    "\n",
    "\n",
    "st = [1,200]\n",
    "time = simulator.neuron.h.VecStim()\n",
    "st_n = simulator.neuron.h.Vector(st)\n",
    "time.play(st_n)\n",
    "syn = simulator.neuron.h.Exp2Syn(modelCell.icell.soma[0](0.5))\n",
    "\n",
    "nc = simulator.neuron.h.NetCon(time,syn)\n",
    "nc.weight[0] = 1e-2\n",
    "\n",
    "\n",
    "\"\"\"\n",
    "IClamp\n",
    "\n",
    "\"\"\"\n",
    "IClampHolding = simulator.neuron.h.IClamp(modelCell.icell.soma[0](0.5))\n",
    "IClampHolding.delay = 0\n",
    "IClampHolding.dur = 2000\n",
    "IClampHolding.amp = -0.4257 # nA, but experiments usually use pA\n",
    "IClampStimulation = simulator.neuron.h.IClamp(modelCell.icell.soma[0](0.5))\n",
    "IClampStimulation.delay = 100\n",
    "IClampStimulation.dur = 1000\n",
    "IClampStimulation.amp = 0.4 # nA, but experiments usually use pA\n",
    "\n",
    "simulator.neuron.h.tstop=150\n",
    "simulator.neuron.h.run()\n",
    "\n",
    "plt.figure(0)\n",
    "plt.plot(tSave,vSave,label=\"membrane potential\",c='black')\n",
    "plt.xlabel(\"Time (ms)\")\n",
    "plt.ylabel(\"Membrane potential (mV)\")\n",
    "plt.title(\"TestCell Simulation\")"
   ]
  },
  {
   "cell_type": "code",
   "execution_count": null,
   "metadata": {},
   "outputs": [],
   "source": []
  }
 ],
 "metadata": {
  "kernelspec": {
   "display_name": "Python 3",
   "language": "python",
   "name": "python3"
  },
  "language_info": {
   "codemirror_mode": {
    "name": "ipython",
    "version": 3
   },
   "file_extension": ".py",
   "mimetype": "text/x-python",
   "name": "python",
   "nbconvert_exporter": "python",
   "pygments_lexer": "ipython3",
   "version": "3.7.9"
  }
 },
 "nbformat": 4,
 "nbformat_minor": 4
}
